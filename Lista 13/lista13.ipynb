{
 "cells": [
  {
   "cell_type": "code",
   "execution_count": null,
   "id": "8768f612",
   "metadata": {
    "vscode": {
     "languageId": "plaintext"
    }
   },
   "outputs": [],
   "source": [
    "import os\n",
    "import pandas as pd\n",
    "import numpy as np\n",
    "import re\n",
    "import nltk\n",
    "from nltk.corpus import stopwords\n",
    "from nltk.tokenize import word_tokenize\n",
    "\n",
    "from sklearn.model_selection import train_test_split\n",
    "from sklearn.feature_extraction.text import TfidfVectorizer\n",
    "from sklearn.linear_model import LogisticRegression\n",
    "from sklearn.metrics import accuracy_score, hamming_loss, f1_score\n",
    "\n",
    "from skmultilearn.problem_transform import BinaryRelevance\n",
    "\n",
    "# Baixar recursos do NLTK (necessário na primeira execução)\n",
    "nltk.download('punkt', quiet=True)\n",
    "nltk.download('stopwords', quiet=True)"
   ]
  },
  {
   "cell_type": "code",
   "execution_count": null,
   "id": "ab2609a4",
   "metadata": {
    "vscode": {
     "languageId": "plaintext"
    }
   },
   "outputs": [],
   "source": [
    "# Carrega o arquivo de treino\n",
    "try:\n",
    "    df = pd.read_csv('data/train.csv')\n",
    "except FileNotFoundError:\n",
    "    df = pd.read_csv('data/train.csv/train.csv') # Alternativa caso a pasta seja criada de forma diferente\n",
    "\n",
    "# Define as colunas de rótulos\n",
    "label_cols = ['toxic', 'severe_toxic', 'obscene', 'threat', 'insult', 'identity_hate']\n",
    "\n",
    "print(\"Dimensões do DataFrame:\", df.shape)\n",
    "df.head()"
   ]
  },
  {
   "cell_type": "code",
   "execution_count": null,
   "id": "1609db9e",
   "metadata": {
    "vscode": {
     "languageId": "plaintext"
    }
   },
   "outputs": [],
   "source": [
    "# Obtém a lista de stopwords em inglês\n",
    "stop_words = set(stopwords.words('english'))\n",
    "\n",
    "def preprocess_text(text):\n",
    "    \"\"\"\n",
    "    Função para limpar e pré-processar o texto.\n",
    "    \"\"\"\n",
    "    # Remove caracteres não alfanuméricos e converte para minúsculas\n",
    "    text = re.sub(r'\\W+', ' ', text).lower()\n",
    "    \n",
    "    # Tokeniza o texto\n",
    "    tokens = word_tokenize(text)\n",
    "    \n",
    "    # Remove stopwords\n",
    "    tokens = [word for word in tokens if word not in stop_words]\n",
    "    \n",
    "    return \" \".join(tokens)\n",
    "\n",
    "# Aplica a função de pré-processamento na coluna de comentários\n",
    "# Isso pode levar alguns minutos\n",
    "print(\"Iniciando pré-processamento do texto...\")\n",
    "df['comment_processed'] = df['comment_text'].apply(preprocess_text)\n",
    "print(\"Pré-processamento concluído.\")\n",
    "\n",
    "df[['comment_text', 'comment_processed']].head()"
   ]
  },
  {
   "cell_type": "code",
   "execution_count": null,
   "id": "12971112",
   "metadata": {
    "vscode": {
     "languageId": "plaintext"
    }
   },
   "outputs": [],
   "source": [
    "# Define as features (X) e os rótulos (y)\n",
    "X = df['comment_processed']\n",
    "y = df[label_cols]\n",
    "\n",
    "# Divide os dados em 80% para treino e 20% para teste\n",
    "X_train, X_test, y_train, y_test = train_test_split(X, y, test_size=0.2, random_state=42)\n",
    "\n",
    "print(f\"Tamanho do conjunto de treino: {X_train.shape[0]} amostras\")\n",
    "print(f\"Tamanho do conjunto de teste: {X_test.shape[0]} amostras\")"
   ]
  },
  {
   "cell_type": "code",
   "execution_count": null,
   "id": "a763cca6",
   "metadata": {
    "vscode": {
     "languageId": "plaintext"
    }
   },
   "outputs": [],
   "source": [
    "# Inicializa o TfidfVectorizer\n",
    "tfidf = TfidfVectorizer(max_features=5000, stop_words='english')\n",
    "\n",
    "# Aprende o vocabulário e transforma os dados de treino\n",
    "X_train_tfidf = tfidf.fit_transform(X_train)\n",
    "\n",
    "# Apenas transforma os dados de teste com o vocabulário aprendido\n",
    "X_test_tfidf = tfidf.transform(X_test)\n",
    "\n",
    "print(\"Dimensões da matriz TF-IDF de treino:\", X_train_tfidf.shape)\n",
    "print(\"Dimensões da matriz TF-IDF de teste:\", X_test_tfidf.shape)"
   ]
  },
  {
   "cell_type": "code",
   "execution_count": null,
   "id": "1881438f",
   "metadata": {
    "vscode": {
     "languageId": "plaintext"
    }
   },
   "outputs": [],
   "source": [
    "# Inicializa o classificador de Relevância Binária com Regressão Logística\n",
    "# O parâmetro n_jobs=-1 utiliza todos os processadores disponíveis para acelerar\n",
    "classifier = BinaryRelevance(classifier=LogisticRegression(solver='liblinear', random_state=42), require_dense=[False, True])\n",
    "\n",
    "# Treina o classificador\n",
    "print(\"Iniciando o treinamento do modelo...\")\n",
    "classifier.fit(X_train_tfidf, y_train)\n",
    "print(\"Treinamento concluído.\")"
   ]
  },
  {
   "cell_type": "code",
   "execution_count": null,
   "id": "b75f11c4",
   "metadata": {
    "vscode": {
     "languageId": "plaintext"
    }
   },
   "outputs": [],
   "source": [
    "# Faz previsões no conjunto de teste\n",
    "predictions = classifier.predict(X_test_tfidf)\n",
    "\n",
    "# Avalia o desempenho do modelo\n",
    "accuracy = accuracy_score(y_test, predictions)\n",
    "hamming = hamming_loss(y_test, predictions)\n",
    "f1_micro = f1_score(y_test, predictions, average='micro')\n",
    "f1_macro = f1_score(y_test, predictions, average='macro')\n",
    "\n",
    "print(\"------ Desempenho do Classificador ------\")\n",
    "print(f\"Pontuação de Acurácia (Subset Accuracy): {accuracy:.4f}\")\n",
    "print(f\"Perda de Hamming (Hamming Loss): {hamming:.4f}\")\n",
    "print(f\"Pontuação F1 (Micro): {f1_micro:.4f}\")\n",
    "print(f\"Pontuação F1 (Macro): {f1_macro:.4f}\")\n",
    "print(\"---------------------------------------\")\n",
    "\n",
    "print(\"\\nExplicação das Métricas:\")\n",
    "print(\" - A Pontuação de Acurácia mede a proporção de amostras com TODOS os rótulos previstos corretamente. É uma métrica muito rigorosa.\")\n",
    "print(\" - A Perda de Hamming é a fração de rótulos incorretamente previstos do total de rótulos.\")\n",
    "print(\" - F1-Score (Micro) agrega as contribuições de todas as classes para calcular a média. É útil em casos de desbalanceamento de classes.\")\n",
    "print(\" - F1-Score (Macro) calcula a métrica para cada rótulo e encontra sua média não ponderada. Dá peso igual a todas as classes.\")"
   ]
  }
 ],
 "metadata": {
  "language_info": {
   "name": "python"
  }
 },
 "nbformat": 4,
 "nbformat_minor": 5
}
